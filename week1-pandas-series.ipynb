{
 "cells": [
  {
   "cell_type": "markdown",
   "id": "2d932225-db2c-4762-8c4c-c5f814a19580",
   "metadata": {},
   "source": [
    "# Pandas\n",
    " Pandas is a Python package used to wrangle and analyze tabular data. \n"
   ]
  },
  {
   "cell_type": "code",
   "execution_count": 6,
   "id": "dd19a500-b245-43f8-bd16-55f6612b720a",
   "metadata": {
    "tags": []
   },
   "outputs": [],
   "source": [
    "import pandas as pd\n",
    "import numpy as np"
   ]
  },
  {
   "cell_type": "markdown",
   "id": "26d72ecf-7323-41b2-88aa-cd07c3346d8a",
   "metadata": {},
   "source": [
    "## pandas.Series \n",
    "  A series is a one dimensional array of indexed data. \n",
    "  A `NumPy` array does not have an index as part of the data structure.\n",
    "  A `pandas` array has an index as part of the data structure.\n",
    "  \n",
    "  `pandas.Series` are the columns of the `pandas.DataFrame`.\n",
    "  "
   ]
  },
  {
   "cell_type": "code",
   "execution_count": 7,
   "id": "91a47a3e-d604-4629-8ac9-1a2fcb69abed",
   "metadata": {
    "tags": []
   },
   "outputs": [
    {
     "name": "stdout",
     "output_type": "stream",
     "text": [
      "<class 'numpy.ndarray'>\n",
      "[ 0.6676212  -1.34025222  0.2171997  -0.08591628] \n",
      "\n",
      "<class 'pandas.core.series.Series'>\n",
      "0    0.667621\n",
      "1   -1.340252\n",
      "2    0.217200\n",
      "3   -0.085916\n",
      "dtype: float64\n"
     ]
    }
   ],
   "source": [
    "# A numpy array\n",
    "arr = np.random.randn(4) # random values from std normal distribution\n",
    "print(type(arr))\n",
    "print(arr, \"\\n\")\n",
    "\n",
    "# A pandas series made from the previous array\n",
    "s = pd.Series(arr)\n",
    "print(type(s))\n",
    "print(s)"
   ]
  },
  {
   "cell_type": "markdown",
   "id": "c83a1516-3adf-46e0-99d4-75d3af49eac2",
   "metadata": {},
   "source": [
    "## Creating a pandas.Series\n",
    "\n",
    "`s = pd.Series(data, index=index)`\n",
    "\n",
    "The `data` parameter can be:\n",
    "1. a `NumPy` array\n",
    "2. a Python dictionary\n",
    "3. a number, boolean, or string\n",
    "\n",
    "The`index` parameter is not necessary but if included should be the same length as the data. If an index is not provided the default is 0 to len(data)-1."
   ]
  },
  {
   "cell_type": "markdown",
   "id": "31e11545-ca83-4fbd-b48c-e9a70687605f",
   "metadata": {},
   "source": [
    "#### Creating a pandas.Series from a numpy array"
   ]
  },
  {
   "cell_type": "code",
   "execution_count": 8,
   "id": "2f66f078-0b2d-4c69-9efe-71a423f7163e",
   "metadata": {
    "tags": []
   },
   "outputs": [
    {
     "data": {
      "text/plain": [
       "2023    0\n",
       "2024    1\n",
       "2025    2\n",
       "dtype: int64"
      ]
     },
     "execution_count": 8,
     "metadata": {},
     "output_type": "execute_result"
    }
   ],
   "source": [
    "# A series from a numpy array \n",
    "pd.Series(np.arange(3), index=[2023, 2024, 2025])"
   ]
  },
  {
   "cell_type": "markdown",
   "id": "1593dc2e-fd82-4adc-857a-fcfa1ce31c67",
   "metadata": {
    "tags": []
   },
   "source": [
    "#### Creating a pandas.Series from a list"
   ]
  },
  {
   "cell_type": "code",
   "execution_count": 11,
   "id": "4f53a3ec-41a8-44b9-b8a7-d1fc2f5c4aa5",
   "metadata": {
    "tags": []
   },
   "outputs": [
    {
     "data": {
      "text/plain": [
       "0    EDS 220\n",
       "1    EDS 222\n",
       "2    EDS 223\n",
       "3    EDS 242\n",
       "dtype: object"
      ]
     },
     "execution_count": 11,
     "metadata": {},
     "output_type": "execute_result"
    }
   ],
   "source": [
    "# A series from a list of strings with default index\n",
    "pd.Series(['EDS 220', 'EDS 222', 'EDS 223', 'EDS 242'])"
   ]
  },
  {
   "cell_type": "markdown",
   "id": "03cf2dcd-c19b-4b91-bec5-fbe375cb567a",
   "metadata": {
    "tags": []
   },
   "source": [
    "#### Creating a pandas.Series from a dictionary"
   ]
  },
  {
   "cell_type": "code",
   "execution_count": 12,
   "id": "076d809f-7ce1-43a8-a2eb-21e1b715a80f",
   "metadata": {
    "tags": []
   },
   "outputs": [
    {
     "data": {
      "text/plain": [
       "key_0    2\n",
       "key_1    3\n",
       "key_2    5\n",
       "dtype: object"
      ]
     },
     "execution_count": 12,
     "metadata": {},
     "output_type": "execute_result"
    }
   ],
   "source": [
    "# Construct dictionary\n",
    "d = {'key_0':2, 'key_1':'3', 'key_2':5}\n",
    "\n",
    "# Initialize series using a dictionary\n",
    "pd.Series(d)"
   ]
  },
  {
   "cell_type": "markdown",
   "id": "5eb261cd-b23a-4021-8298-77cc02dfb587",
   "metadata": {},
   "source": [
    "#### Creating a panda.Series from a single value\n",
    "\n",
    "We have to provide an index and the length of the list will be the length of the index."
   ]
  },
  {
   "cell_type": "code",
   "execution_count": 13,
   "id": "220207bb-cc58-4842-96f4-be9ad770c25c",
   "metadata": {
    "tags": []
   },
   "outputs": [
    {
     "data": {
      "text/plain": [
       "A    3.0\n",
       "B    3.0\n",
       "C    3.0\n",
       "dtype: float64"
      ]
     },
     "execution_count": 13,
     "metadata": {},
     "output_type": "execute_result"
    }
   ],
   "source": [
    "pd.Series(3.0, index = ['A', 'B', 'C'])"
   ]
  },
  {
   "cell_type": "markdown",
   "id": "d2dd1c93-b3e6-4d0b-ae7a-97344295f189",
   "metadata": {
    "tags": []
   },
   "source": [
    "## Basic arithmatic on series\n",
    "\n",
    "Note: `'\\n'` is adding space between the outputs improving readability."
   ]
  },
  {
   "cell_type": "code",
   "execution_count": 14,
   "id": "63a306b4-ec0d-4f14-aeff-e8100b87b3e7",
   "metadata": {
    "tags": []
   },
   "outputs": [
    {
     "name": "stdout",
     "output_type": "stream",
     "text": [
      "Andrea      9.8\n",
      "Beth        7.3\n",
      "Carolina    6.5\n",
      "dtype: float64 \n",
      "\n",
      "Andrea      3.637971e+42\n",
      "Beth        5.052394e+31\n",
      "Carolina    1.694889e+28\n",
      "dtype: float64 \n",
      "\n",
      "Andrea       True\n",
      "Beth         True\n",
      "Carolina    False\n",
      "dtype: bool \n",
      "\n",
      "Andrea      98\n",
      "Beth        73\n",
      "Carolina    65\n",
      "dtype: int64\n"
     ]
    }
   ],
   "source": [
    "# Define a series\n",
    "s = pd.Series([98,73,65],index=['Andrea', 'Beth', 'Carolina'])\n",
    "\n",
    "# Divide each element in series by 10\n",
    "print(s /10, '\\n')\n",
    "\n",
    "# Take the exponential of each element in series\n",
    "print(np.exp(s), '\\n')\n",
    "\n",
    "# Analyze whether the series values are greater than 70 in a boolean\n",
    "print(s > 70, '\\n')\n",
    "\n",
    "# Original series is unchanged\n",
    "print(s)\n",
    "\n"
   ]
  },
  {
   "cell_type": "markdown",
   "id": "5ed6a459-4bff-4eb3-86ca-f2252b4670f2",
   "metadata": {},
   "source": [
    "## Identifying missing values \n",
    "\n",
    "We can represent missing values in a float value `numpy.nan` (`np.nan`) which stands for \"not a number\"."
   ]
  },
  {
   "cell_type": "code",
   "execution_count": 15,
   "id": "7253dab5-f65c-4c36-ab79-3f9eacbd812b",
   "metadata": {
    "tags": []
   },
   "outputs": [
    {
     "data": {
      "text/plain": [
       "0    1.0\n",
       "1    2.0\n",
       "2    NaN\n",
       "3    4.0\n",
       "4    NaN\n",
       "dtype: float64"
      ]
     },
     "execution_count": 15,
     "metadata": {},
     "output_type": "execute_result"
    }
   ],
   "source": [
    "# Series with NAs in it\n",
    "s = pd.Series([1, 2, np.nan, 4, np.nan])\n",
    "s"
   ]
  },
  {
   "cell_type": "markdown",
   "id": "e759eebd-34b5-42d5-8d05-ffec39749278",
   "metadata": {},
   "source": [
    "The hasnans attribute is `True` if the series contains NAs and `False` otherwise. "
   ]
  },
  {
   "cell_type": "code",
   "execution_count": 16,
   "id": "41b7b2f1-3965-4dda-8bc1-52c2a58404d3",
   "metadata": {
    "tags": []
   },
   "outputs": [
    {
     "data": {
      "text/plain": [
       "True"
      ]
     },
     "execution_count": 16,
     "metadata": {},
     "output_type": "execute_result"
    }
   ],
   "source": [
    "# Check if series has NAs\n",
    "s.hasnans"
   ]
  },
  {
   "cell_type": "code",
   "execution_count": 17,
   "id": "4dacf037-02e5-4cc0-b94a-719bfdef1e8e",
   "metadata": {
    "tags": []
   },
   "outputs": [
    {
     "data": {
      "text/plain": [
       "0    False\n",
       "1    False\n",
       "2     True\n",
       "3    False\n",
       "4     True\n",
       "dtype: bool"
      ]
     },
     "execution_count": 17,
     "metadata": {},
     "output_type": "execute_result"
    }
   ],
   "source": [
    "# Identifies which values contain NAs with boolean output\n",
    "s.isna()"
   ]
  },
  {
   "cell_type": "markdown",
   "id": "4f91281f-bde7-4e38-8305-309b322f1c04",
   "metadata": {},
   "source": [
    "## Check-in\n",
    "\n",
    "1. The integer number -999 is often used to represent missing values. Create a pandas.Series named s with four integer values, two of which are -999. The index of this series should be the the letters A through D.\n",
    "\n",
    "2. In the pandas.Series documentation, look for the method mask(). Use this method to update the series s so that the -999 values are replaced by NA values. HINT: check the first example in the method’s documentation."
   ]
  },
  {
   "cell_type": "code",
   "execution_count": 42,
   "id": "1622bb45-75b9-48b3-84d5-1b71e2230ec4",
   "metadata": {
    "tags": []
   },
   "outputs": [
    {
     "data": {
      "text/plain": [
       "A    100.0\n",
       "B      NaN\n",
       "C     10.0\n",
       "D      NaN\n",
       "dtype: float64"
      ]
     },
     "execution_count": 42,
     "metadata": {},
     "output_type": "execute_result"
    }
   ],
   "source": [
    "s = pd.Series([100, -999, 10, -999], index = ['A', 'B', 'C', 'D'])\n",
    "s.mask(s == -999) "
   ]
  },
  {
   "cell_type": "code",
   "execution_count": 47,
   "id": "5625c83a-c944-406e-9ee1-81f8d3757dc3",
   "metadata": {
    "tags": []
   },
   "outputs": [
    {
     "data": {
      "text/plain": [
       "\u001b[0;31mSignature:\u001b[0m\n",
       "\u001b[0ms\u001b[0m\u001b[0;34m.\u001b[0m\u001b[0mmask\u001b[0m\u001b[0;34m(\u001b[0m\u001b[0;34m\u001b[0m\n",
       "\u001b[0;34m\u001b[0m    \u001b[0mcond\u001b[0m\u001b[0;34m,\u001b[0m\u001b[0;34m\u001b[0m\n",
       "\u001b[0;34m\u001b[0m    \u001b[0mother\u001b[0m\u001b[0;34m=\u001b[0m\u001b[0;34m<\u001b[0m\u001b[0mno_default\u001b[0m\u001b[0;34m>\u001b[0m\u001b[0;34m,\u001b[0m\u001b[0;34m\u001b[0m\n",
       "\u001b[0;34m\u001b[0m    \u001b[0;34m*\u001b[0m\u001b[0;34m,\u001b[0m\u001b[0;34m\u001b[0m\n",
       "\u001b[0;34m\u001b[0m    \u001b[0minplace\u001b[0m\u001b[0;34m:\u001b[0m \u001b[0;34m'bool_t'\u001b[0m \u001b[0;34m=\u001b[0m \u001b[0;32mFalse\u001b[0m\u001b[0;34m,\u001b[0m\u001b[0;34m\u001b[0m\n",
       "\u001b[0;34m\u001b[0m    \u001b[0maxis\u001b[0m\u001b[0;34m:\u001b[0m \u001b[0;34m'Axis | None'\u001b[0m \u001b[0;34m=\u001b[0m \u001b[0;32mNone\u001b[0m\u001b[0;34m,\u001b[0m\u001b[0;34m\u001b[0m\n",
       "\u001b[0;34m\u001b[0m    \u001b[0mlevel\u001b[0m\u001b[0;34m:\u001b[0m \u001b[0;34m'Level | None'\u001b[0m \u001b[0;34m=\u001b[0m \u001b[0;32mNone\u001b[0m\u001b[0;34m,\u001b[0m\u001b[0;34m\u001b[0m\n",
       "\u001b[0;34m\u001b[0m\u001b[0;34m)\u001b[0m \u001b[0;34m->\u001b[0m \u001b[0;34m'Self | None'\u001b[0m\u001b[0;34m\u001b[0m\u001b[0;34m\u001b[0m\u001b[0m\n",
       "\u001b[0;31mDocstring:\u001b[0m\n",
       "Replace values where the condition is True.\n",
       "\n",
       "Parameters\n",
       "----------\n",
       "cond : bool Series/DataFrame, array-like, or callable\n",
       "    Where `cond` is False, keep the original value. Where\n",
       "    True, replace with corresponding value from `other`.\n",
       "    If `cond` is callable, it is computed on the Series/DataFrame and\n",
       "    should return boolean Series/DataFrame or array. The callable must\n",
       "    not change input Series/DataFrame (though pandas doesn't check it).\n",
       "other : scalar, Series/DataFrame, or callable\n",
       "    Entries where `cond` is True are replaced with\n",
       "    corresponding value from `other`.\n",
       "    If other is callable, it is computed on the Series/DataFrame and\n",
       "    should return scalar or Series/DataFrame. The callable must not\n",
       "    change input Series/DataFrame (though pandas doesn't check it).\n",
       "    If not specified, entries will be filled with the corresponding\n",
       "    NULL value (``np.nan`` for numpy dtypes, ``pd.NA`` for extension\n",
       "    dtypes).\n",
       "inplace : bool, default False\n",
       "    Whether to perform the operation in place on the data.\n",
       "axis : int, default None\n",
       "    Alignment axis if needed. For `Series` this parameter is\n",
       "    unused and defaults to 0.\n",
       "level : int, default None\n",
       "    Alignment level if needed.\n",
       "\n",
       "Returns\n",
       "-------\n",
       "Same type as caller or None if ``inplace=True``.\n",
       "\n",
       "See Also\n",
       "--------\n",
       ":func:`DataFrame.where` : Return an object of same shape as\n",
       "    self.\n",
       "\n",
       "Notes\n",
       "-----\n",
       "The mask method is an application of the if-then idiom. For each\n",
       "element in the calling DataFrame, if ``cond`` is ``False`` the\n",
       "element is used; otherwise the corresponding element from the DataFrame\n",
       "``other`` is used. If the axis of ``other`` does not align with axis of\n",
       "``cond`` Series/DataFrame, the misaligned index positions will be filled with\n",
       "True.\n",
       "\n",
       "The signature for :func:`DataFrame.where` differs from\n",
       ":func:`numpy.where`. Roughly ``df1.where(m, df2)`` is equivalent to\n",
       "``np.where(m, df1, df2)``.\n",
       "\n",
       "For further details and examples see the ``mask`` documentation in\n",
       ":ref:`indexing <indexing.where_mask>`.\n",
       "\n",
       "The dtype of the object takes precedence. The fill value is casted to\n",
       "the object's dtype, if this can be done losslessly.\n",
       "\n",
       "Examples\n",
       "--------\n",
       ">>> s = pd.Series(range(5))\n",
       ">>> s.where(s > 0)\n",
       "0    NaN\n",
       "1    1.0\n",
       "2    2.0\n",
       "3    3.0\n",
       "4    4.0\n",
       "dtype: float64\n",
       ">>> s.mask(s > 0)\n",
       "0    0.0\n",
       "1    NaN\n",
       "2    NaN\n",
       "3    NaN\n",
       "4    NaN\n",
       "dtype: float64\n",
       "\n",
       ">>> s = pd.Series(range(5))\n",
       ">>> t = pd.Series([True, False])\n",
       ">>> s.where(t, 99)\n",
       "0     0\n",
       "1    99\n",
       "2    99\n",
       "3    99\n",
       "4    99\n",
       "dtype: int64\n",
       ">>> s.mask(t, 99)\n",
       "0    99\n",
       "1     1\n",
       "2    99\n",
       "3    99\n",
       "4    99\n",
       "dtype: int64\n",
       "\n",
       ">>> s.where(s > 1, 10)\n",
       "0    10\n",
       "1    10\n",
       "2    2\n",
       "3    3\n",
       "4    4\n",
       "dtype: int64\n",
       ">>> s.mask(s > 1, 10)\n",
       "0     0\n",
       "1     1\n",
       "2    10\n",
       "3    10\n",
       "4    10\n",
       "dtype: int64\n",
       "\n",
       ">>> df = pd.DataFrame(np.arange(10).reshape(-1, 2), columns=['A', 'B'])\n",
       ">>> df\n",
       "   A  B\n",
       "0  0  1\n",
       "1  2  3\n",
       "2  4  5\n",
       "3  6  7\n",
       "4  8  9\n",
       ">>> m = df % 3 == 0\n",
       ">>> df.where(m, -df)\n",
       "   A  B\n",
       "0  0 -1\n",
       "1 -2  3\n",
       "2 -4 -5\n",
       "3  6 -7\n",
       "4 -8  9\n",
       ">>> df.where(m, -df) == np.where(m, df, -df)\n",
       "      A     B\n",
       "0  True  True\n",
       "1  True  True\n",
       "2  True  True\n",
       "3  True  True\n",
       "4  True  True\n",
       ">>> df.where(m, -df) == df.mask(~m, -df)\n",
       "      A     B\n",
       "0  True  True\n",
       "1  True  True\n",
       "2  True  True\n",
       "3  True  True\n",
       "4  True  True\n",
       "\u001b[0;31mFile:\u001b[0m      /opt/anaconda3/envs/eds220-env/lib/python3.11/site-packages/pandas/core/generic.py\n",
       "\u001b[0;31mType:\u001b[0m      method"
      ]
     },
     "metadata": {},
     "output_type": "display_data"
    }
   ],
   "source": [
    "# Looking as Series.mask() documentation\n",
    "?s.mask"
   ]
  },
  {
   "cell_type": "markdown",
   "id": "d365aa18-4c5d-4bac-b2d4-79f0ce3f75a7",
   "metadata": {},
   "source": [
    "# pandas.DataFrame\n",
    "\n",
    "Each column of a `pandas.DataFrame` is a `pandas.Series`. And a `pandas.DataFrame` is a dictionary of `pandas.Series` where each column name is the key and the column values are the key's values."
   ]
  },
  {
   "cell_type": "code",
   "execution_count": 49,
   "id": "cdad4a93-5bc7-493b-a832-0a9a023028d3",
   "metadata": {
    "tags": []
   },
   "outputs": [
    {
     "data": {
      "text/html": [
       "<div>\n",
       "<style scoped>\n",
       "    .dataframe tbody tr th:only-of-type {\n",
       "        vertical-align: middle;\n",
       "    }\n",
       "\n",
       "    .dataframe tbody tr th {\n",
       "        vertical-align: top;\n",
       "    }\n",
       "\n",
       "    .dataframe thead th {\n",
       "        text-align: right;\n",
       "    }\n",
       "</style>\n",
       "<table border=\"1\" class=\"dataframe\">\n",
       "  <thead>\n",
       "    <tr style=\"text-align: right;\">\n",
       "      <th></th>\n",
       "      <th>col_name_1</th>\n",
       "      <th>col_name_2</th>\n",
       "    </tr>\n",
       "  </thead>\n",
       "  <tbody>\n",
       "    <tr>\n",
       "      <th>0</th>\n",
       "      <td>0</td>\n",
       "      <td>3.1</td>\n",
       "    </tr>\n",
       "    <tr>\n",
       "      <th>1</th>\n",
       "      <td>1</td>\n",
       "      <td>3.2</td>\n",
       "    </tr>\n",
       "    <tr>\n",
       "      <th>2</th>\n",
       "      <td>2</td>\n",
       "      <td>3.3</td>\n",
       "    </tr>\n",
       "  </tbody>\n",
       "</table>\n",
       "</div>"
      ],
      "text/plain": [
       "   col_name_1  col_name_2\n",
       "0           0         3.1\n",
       "1           1         3.2\n",
       "2           2         3.3"
      ]
     },
     "execution_count": 49,
     "metadata": {},
     "output_type": "execute_result"
    }
   ],
   "source": [
    "# Initialize dictionary with columns' data \n",
    "d = {'col_name_1' : pd.Series(np.arange(3)),\n",
    "     'col_name_2' : pd.Series([3.1, 3.2, 3.3]),\n",
    "     }\n",
    "\n",
    "# Create data frame\n",
    "df = pd.DataFrame(d)\n",
    "df"
   ]
  },
  {
   "cell_type": "code",
   "execution_count": 50,
   "id": "efde3f7c-43aa-44fd-9de7-b061e021d88b",
   "metadata": {
    "tags": []
   },
   "outputs": [
    {
     "data": {
      "text/html": [
       "<div>\n",
       "<style scoped>\n",
       "    .dataframe tbody tr th:only-of-type {\n",
       "        vertical-align: middle;\n",
       "    }\n",
       "\n",
       "    .dataframe tbody tr th {\n",
       "        vertical-align: top;\n",
       "    }\n",
       "\n",
       "    .dataframe thead th {\n",
       "        text-align: right;\n",
       "    }\n",
       "</style>\n",
       "<table border=\"1\" class=\"dataframe\">\n",
       "  <thead>\n",
       "    <tr style=\"text-align: right;\">\n",
       "      <th></th>\n",
       "      <th>col_name_1</th>\n",
       "      <th>col_name_2</th>\n",
       "    </tr>\n",
       "  </thead>\n",
       "  <tbody>\n",
       "    <tr>\n",
       "      <th>a</th>\n",
       "      <td>0</td>\n",
       "      <td>3.1</td>\n",
       "    </tr>\n",
       "    <tr>\n",
       "      <th>b</th>\n",
       "      <td>1</td>\n",
       "      <td>3.2</td>\n",
       "    </tr>\n",
       "    <tr>\n",
       "      <th>c</th>\n",
       "      <td>2</td>\n",
       "      <td>3.3</td>\n",
       "    </tr>\n",
       "  </tbody>\n",
       "</table>\n",
       "</div>"
      ],
      "text/plain": [
       "   col_name_1  col_name_2\n",
       "a           0         3.1\n",
       "b           1         3.2\n",
       "c           2         3.3"
      ]
     },
     "execution_count": 50,
     "metadata": {},
     "output_type": "execute_result"
    }
   ],
   "source": [
    "# Change index\n",
    "df.index = ['a','b','c']\n",
    "df"
   ]
  },
  {
   "cell_type": "markdown",
   "id": "c99f3960-8ee7-436d-a4fe-1a7b7f27772f",
   "metadata": {},
   "source": [
    "## Check-in "
   ]
  },
  {
   "cell_type": "code",
   "execution_count": 51,
   "id": "e951ba25-d819-4d8f-a997-86ebf535d651",
   "metadata": {
    "tags": []
   },
   "outputs": [
    {
     "data": {
      "text/html": [
       "<div>\n",
       "<style scoped>\n",
       "    .dataframe tbody tr th:only-of-type {\n",
       "        vertical-align: middle;\n",
       "    }\n",
       "\n",
       "    .dataframe tbody tr th {\n",
       "        vertical-align: top;\n",
       "    }\n",
       "\n",
       "    .dataframe thead th {\n",
       "        text-align: right;\n",
       "    }\n",
       "</style>\n",
       "<table border=\"1\" class=\"dataframe\">\n",
       "  <thead>\n",
       "    <tr style=\"text-align: right;\">\n",
       "      <th></th>\n",
       "      <th>C1</th>\n",
       "      <th>C2</th>\n",
       "    </tr>\n",
       "  </thead>\n",
       "  <tbody>\n",
       "    <tr>\n",
       "      <th>a</th>\n",
       "      <td>0</td>\n",
       "      <td>3.1</td>\n",
       "    </tr>\n",
       "    <tr>\n",
       "      <th>b</th>\n",
       "      <td>1</td>\n",
       "      <td>3.2</td>\n",
       "    </tr>\n",
       "    <tr>\n",
       "      <th>c</th>\n",
       "      <td>2</td>\n",
       "      <td>3.3</td>\n",
       "    </tr>\n",
       "  </tbody>\n",
       "</table>\n",
       "</div>"
      ],
      "text/plain": [
       "   C1   C2\n",
       "a   0  3.1\n",
       "b   1  3.2\n",
       "c   2  3.3"
      ]
     },
     "execution_count": 51,
     "metadata": {},
     "output_type": "execute_result"
    }
   ],
   "source": [
    "# Changing column names\n",
    "df.columns = ['C1', 'C2']\n",
    "df"
   ]
  },
  {
   "cell_type": "code",
   "execution_count": null,
   "id": "d47ea2a8-e3a4-49fc-8170-742f17d5c884",
   "metadata": {},
   "outputs": [],
   "source": []
  }
 ],
 "metadata": {
  "kernelspec": {
   "display_name": "EDS220",
   "language": "python",
   "name": "eds220-env"
  },
  "language_info": {
   "codemirror_mode": {
    "name": "ipython",
    "version": 3
   },
   "file_extension": ".py",
   "mimetype": "text/x-python",
   "name": "python",
   "nbconvert_exporter": "python",
   "pygments_lexer": "ipython3",
   "version": "3.11.4"
  }
 },
 "nbformat": 4,
 "nbformat_minor": 5
}
