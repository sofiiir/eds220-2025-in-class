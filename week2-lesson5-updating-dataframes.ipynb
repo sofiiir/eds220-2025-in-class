{
 "cells": [
  {
   "cell_type": "markdown",
   "id": "95084b5c-1824-49ba-abe5-79443a66d78c",
   "metadata": {},
   "source": [
    "# Updating data frames\n",
    "\n",
    "## Updating values in a dataframe\n",
    "\n",
    "Let's import packages and date"
   ]
  },
  {
   "cell_type": "code",
   "execution_count": 8,
   "id": "6f5dfa8b-49ce-4e44-82c7-dc2bf3fa2020",
   "metadata": {
    "tags": []
   },
   "outputs": [],
   "source": [
    "import numpy as np\n",
    "import pandas as pd\n",
    "import random # Use for randomly sampling integers\n",
    "\n",
    "# Set the seed\n",
    "random.seed(42)\n",
    "\n",
    "# Import data\n",
    "URL = 'https://raw.githubusercontent.com/allisonhorst/palmerpenguins/main/inst/extdata/penguins.csv'\n",
    "penguins = pd.read_csv(URL)"
   ]
  },
  {
   "cell_type": "code",
   "execution_count": 9,
   "id": "6357eed0-14ad-4028-b57c-fc6ff593f473",
   "metadata": {
    "tags": []
   },
   "outputs": [
    {
     "name": "stdout",
     "output_type": "stream",
     "text": [
      "True\n"
     ]
    }
   ],
   "source": [
    "# Add column body mass in kg\n",
    "penguins['body_mass_kg'] = penguins['body_mass_g']/1000\n",
    "\n",
    "# Confirm the new column is in the data frame without printing the whole dataframe and is more clear\n",
    "print('body_mass_kg' in penguins.columns) "
   ]
  },
  {
   "cell_type": "code",
   "execution_count": 10,
   "id": "8ad29a99-95eb-472d-8970-e7fa058eddc7",
   "metadata": {
    "tags": []
   },
   "outputs": [
    {
     "data": {
      "text/plain": [
       "<bound method NDFrame.head of      id_code    species     island  bill_length_mm  bill_depth_mm  \\\n",
       "0        754     Adelie  Torgersen            39.1           18.7   \n",
       "1        214     Adelie  Torgersen            39.5           17.4   \n",
       "2        125     Adelie  Torgersen            40.3           18.0   \n",
       "3        859     Adelie  Torgersen             NaN            NaN   \n",
       "4        381     Adelie  Torgersen            36.7           19.3   \n",
       "..       ...        ...        ...             ...            ...   \n",
       "339      140  Chinstrap      Dream            55.8           19.8   \n",
       "340      183  Chinstrap      Dream            43.5           18.1   \n",
       "341      969  Chinstrap      Dream            49.6           18.2   \n",
       "342      635  Chinstrap      Dream            50.8           19.0   \n",
       "343      883  Chinstrap      Dream            50.2           18.7   \n",
       "\n",
       "     flipper_length_mm  body_mass_g     sex  year  body_mass_kg  \n",
       "0                181.0       3750.0    male  2007         3.750  \n",
       "1                186.0       3800.0  female  2007         3.800  \n",
       "2                195.0       3250.0  female  2007         3.250  \n",
       "3                  NaN          NaN     NaN  2007           NaN  \n",
       "4                193.0       3450.0  female  2007         3.450  \n",
       "..                 ...          ...     ...   ...           ...  \n",
       "339              207.0       4000.0    male  2009         4.000  \n",
       "340              202.0       3400.0  female  2009         3.400  \n",
       "341              193.0       3775.0    male  2009         3.775  \n",
       "342              210.0       4100.0    male  2009         4.100  \n",
       "343              198.0       3775.0  female  2009         3.775  \n",
       "\n",
       "[344 rows x 10 columns]>"
      ]
     },
     "execution_count": 10,
     "metadata": {},
     "output_type": "execute_result"
    }
   ],
   "source": [
    "# Create random 3-digit codes\n",
    "codes = random.sample(range(100,1000), len(penguins))  # Sampling w/o replacement\n",
    "\n",
    "# Insert codes at the front of data frame\n",
    "penguins.insert(loc=0,  # Index\n",
    "                column='id_code',\n",
    "                value=codes)\n",
    "\n",
    "penguins.head"
   ]
  },
  {
   "cell_type": "markdown",
   "id": "68c941a2-440d-4973-9da8-03560606da6c",
   "metadata": {},
   "source": [
    "## A single value \n",
    "\n",
    " Access a single value in a `pandas/DataFrame` using locators\n",
    "    \n",
    "- at[] to select by labels, or\n",
    "- iat[] to select by position.\n",
    "\n",
    "The syntax for `at[]` is:\n",
    "```\n",
    "df.at[single_index_value, 'column_name']\n",
    "```\n",
    "Think of `at[]` as the equivalent to `loc[]` when trying to access a single value.\n",
    "\n"
   ]
  },
  {
   "cell_type": "code",
   "execution_count": 12,
   "id": "53894fbe-575b-4062-8967-4e7f6864dcdc",
   "metadata": {
    "tags": []
   },
   "outputs": [
    {
     "data": {
      "text/html": [
       "<div>\n",
       "<style scoped>\n",
       "    .dataframe tbody tr th:only-of-type {\n",
       "        vertical-align: middle;\n",
       "    }\n",
       "\n",
       "    .dataframe tbody tr th {\n",
       "        vertical-align: top;\n",
       "    }\n",
       "\n",
       "    .dataframe thead th {\n",
       "        text-align: right;\n",
       "    }\n",
       "</style>\n",
       "<table border=\"1\" class=\"dataframe\">\n",
       "  <thead>\n",
       "    <tr style=\"text-align: right;\">\n",
       "      <th></th>\n",
       "      <th>species</th>\n",
       "      <th>island</th>\n",
       "      <th>bill_length_mm</th>\n",
       "      <th>bill_depth_mm</th>\n",
       "      <th>flipper_length_mm</th>\n",
       "      <th>body_mass_g</th>\n",
       "      <th>sex</th>\n",
       "      <th>year</th>\n",
       "      <th>body_mass_kg</th>\n",
       "    </tr>\n",
       "    <tr>\n",
       "      <th>id_code</th>\n",
       "      <th></th>\n",
       "      <th></th>\n",
       "      <th></th>\n",
       "      <th></th>\n",
       "      <th></th>\n",
       "      <th></th>\n",
       "      <th></th>\n",
       "      <th></th>\n",
       "      <th></th>\n",
       "    </tr>\n",
       "  </thead>\n",
       "  <tbody>\n",
       "    <tr>\n",
       "      <th>754</th>\n",
       "      <td>Adelie</td>\n",
       "      <td>Torgersen</td>\n",
       "      <td>39.1</td>\n",
       "      <td>18.7</td>\n",
       "      <td>181.0</td>\n",
       "      <td>3750.0</td>\n",
       "      <td>male</td>\n",
       "      <td>2007</td>\n",
       "      <td>3.750</td>\n",
       "    </tr>\n",
       "    <tr>\n",
       "      <th>214</th>\n",
       "      <td>Adelie</td>\n",
       "      <td>Torgersen</td>\n",
       "      <td>39.5</td>\n",
       "      <td>17.4</td>\n",
       "      <td>186.0</td>\n",
       "      <td>3800.0</td>\n",
       "      <td>female</td>\n",
       "      <td>2007</td>\n",
       "      <td>3.800</td>\n",
       "    </tr>\n",
       "    <tr>\n",
       "      <th>125</th>\n",
       "      <td>Adelie</td>\n",
       "      <td>Torgersen</td>\n",
       "      <td>40.3</td>\n",
       "      <td>18.0</td>\n",
       "      <td>195.0</td>\n",
       "      <td>3250.0</td>\n",
       "      <td>female</td>\n",
       "      <td>2007</td>\n",
       "      <td>3.250</td>\n",
       "    </tr>\n",
       "    <tr>\n",
       "      <th>859</th>\n",
       "      <td>Adelie</td>\n",
       "      <td>Torgersen</td>\n",
       "      <td>NaN</td>\n",
       "      <td>NaN</td>\n",
       "      <td>NaN</td>\n",
       "      <td>NaN</td>\n",
       "      <td>NaN</td>\n",
       "      <td>2007</td>\n",
       "      <td>NaN</td>\n",
       "    </tr>\n",
       "    <tr>\n",
       "      <th>381</th>\n",
       "      <td>Adelie</td>\n",
       "      <td>Torgersen</td>\n",
       "      <td>36.7</td>\n",
       "      <td>19.3</td>\n",
       "      <td>193.0</td>\n",
       "      <td>3450.0</td>\n",
       "      <td>female</td>\n",
       "      <td>2007</td>\n",
       "      <td>3.450</td>\n",
       "    </tr>\n",
       "    <tr>\n",
       "      <th>...</th>\n",
       "      <td>...</td>\n",
       "      <td>...</td>\n",
       "      <td>...</td>\n",
       "      <td>...</td>\n",
       "      <td>...</td>\n",
       "      <td>...</td>\n",
       "      <td>...</td>\n",
       "      <td>...</td>\n",
       "      <td>...</td>\n",
       "    </tr>\n",
       "    <tr>\n",
       "      <th>140</th>\n",
       "      <td>Chinstrap</td>\n",
       "      <td>Dream</td>\n",
       "      <td>55.8</td>\n",
       "      <td>19.8</td>\n",
       "      <td>207.0</td>\n",
       "      <td>4000.0</td>\n",
       "      <td>male</td>\n",
       "      <td>2009</td>\n",
       "      <td>4.000</td>\n",
       "    </tr>\n",
       "    <tr>\n",
       "      <th>183</th>\n",
       "      <td>Chinstrap</td>\n",
       "      <td>Dream</td>\n",
       "      <td>43.5</td>\n",
       "      <td>18.1</td>\n",
       "      <td>202.0</td>\n",
       "      <td>3400.0</td>\n",
       "      <td>female</td>\n",
       "      <td>2009</td>\n",
       "      <td>3.400</td>\n",
       "    </tr>\n",
       "    <tr>\n",
       "      <th>969</th>\n",
       "      <td>Chinstrap</td>\n",
       "      <td>Dream</td>\n",
       "      <td>49.6</td>\n",
       "      <td>18.2</td>\n",
       "      <td>193.0</td>\n",
       "      <td>3775.0</td>\n",
       "      <td>male</td>\n",
       "      <td>2009</td>\n",
       "      <td>3.775</td>\n",
       "    </tr>\n",
       "    <tr>\n",
       "      <th>635</th>\n",
       "      <td>Chinstrap</td>\n",
       "      <td>Dream</td>\n",
       "      <td>50.8</td>\n",
       "      <td>19.0</td>\n",
       "      <td>210.0</td>\n",
       "      <td>4100.0</td>\n",
       "      <td>male</td>\n",
       "      <td>2009</td>\n",
       "      <td>4.100</td>\n",
       "    </tr>\n",
       "    <tr>\n",
       "      <th>883</th>\n",
       "      <td>Chinstrap</td>\n",
       "      <td>Dream</td>\n",
       "      <td>50.2</td>\n",
       "      <td>18.7</td>\n",
       "      <td>198.0</td>\n",
       "      <td>3775.0</td>\n",
       "      <td>female</td>\n",
       "      <td>2009</td>\n",
       "      <td>3.775</td>\n",
       "    </tr>\n",
       "  </tbody>\n",
       "</table>\n",
       "<p>344 rows × 9 columns</p>\n",
       "</div>"
      ],
      "text/plain": [
       "           species     island  bill_length_mm  bill_depth_mm  \\\n",
       "id_code                                                        \n",
       "754         Adelie  Torgersen            39.1           18.7   \n",
       "214         Adelie  Torgersen            39.5           17.4   \n",
       "125         Adelie  Torgersen            40.3           18.0   \n",
       "859         Adelie  Torgersen             NaN            NaN   \n",
       "381         Adelie  Torgersen            36.7           19.3   \n",
       "...            ...        ...             ...            ...   \n",
       "140      Chinstrap      Dream            55.8           19.8   \n",
       "183      Chinstrap      Dream            43.5           18.1   \n",
       "969      Chinstrap      Dream            49.6           18.2   \n",
       "635      Chinstrap      Dream            50.8           19.0   \n",
       "883      Chinstrap      Dream            50.2           18.7   \n",
       "\n",
       "         flipper_length_mm  body_mass_g     sex  year  body_mass_kg  \n",
       "id_code                                                              \n",
       "754                  181.0       3750.0    male  2007         3.750  \n",
       "214                  186.0       3800.0  female  2007         3.800  \n",
       "125                  195.0       3250.0  female  2007         3.250  \n",
       "859                    NaN          NaN     NaN  2007           NaN  \n",
       "381                  193.0       3450.0  female  2007         3.450  \n",
       "...                    ...          ...     ...   ...           ...  \n",
       "140                  207.0       4000.0    male  2009         4.000  \n",
       "183                  202.0       3400.0  female  2009         3.400  \n",
       "969                  193.0       3775.0    male  2009         3.775  \n",
       "635                  210.0       4100.0    male  2009         4.100  \n",
       "883                  198.0       3775.0  female  2009         3.775  \n",
       "\n",
       "[344 rows x 9 columns]"
      ]
     },
     "execution_count": 12,
     "metadata": {},
     "output_type": "execute_result"
    }
   ],
   "source": [
    "# Modifying the data frame setting the code as the index\n",
    "penguins = penguins.set_index('id_code')\n",
    "penguins"
   ]
  },
  {
   "cell_type": "code",
   "execution_count": 15,
   "id": "088501f0-c611-49fd-828b-456f847371ea",
   "metadata": {
    "tags": []
   },
   "outputs": [
    {
     "data": {
      "text/plain": [
       "39.5"
      ]
     },
     "execution_count": 15,
     "metadata": {},
     "output_type": "execute_result"
    }
   ],
   "source": [
    "# Check bill length of penguins with ID 214\n",
    "penguins.at[214, 'bill_length_mm']"
   ]
  },
  {
   "cell_type": "code",
   "execution_count": 17,
   "id": "69cb21da-7f73-4e08-97b3-c53f822f3e7e",
   "metadata": {
    "tags": []
   },
   "outputs": [
    {
     "data": {
      "text/plain": [
       "species              Adelie\n",
       "island               Biscoe\n",
       "bill_length_mm         38.2\n",
       "bill_depth_mm          18.1\n",
       "flipper_length_mm     185.0\n",
       "body_mass_g          3950.0\n",
       "sex                    male\n",
       "year                   2007\n",
       "body_mass_kg           3.95\n",
       "Name: 127, dtype: object"
      ]
     },
     "execution_count": 17,
     "metadata": {},
     "output_type": "execute_result"
    }
   ],
   "source": [
    "# Correct bill length of penguin with ID 214\n",
    "penguins.at[214, 'bill_length_mm'] = 38.3\n",
    "\n",
    "# Confirm the value was updated\n",
    "penguins.loc[127]"
   ]
  },
  {
   "cell_type": "markdown",
   "id": "117fd9b6-b1e5-49dd-aaa3-389ecf1a030e",
   "metadata": {},
   "source": [
    "If we want to access or update a single value by index position we use `iat[]` locator: \n",
    "\n",
    "Syntax:\n",
    "```\n",
    "df.iat[index_integer_location, column_integer_location]\n",
    "```\n",
    "Dynaically get the location of a single column\n",
    "```\n",
    "df.columns.get_loc('column_name')\n",
    "```"
   ]
  },
  {
   "cell_type": "markdown",
   "id": "a63a482f-8c46-4229-8c81-888e3dcd1f45",
   "metadata": {},
   "source": [
    "# Check-in¶\n",
    "Obtain the location of the bill_length_mm column.\n",
    "\n",
    "Use iat[] to access the same bill length value for the penguin with ID 859 and revert it back to an NA. Confirm your update using iloc[]."
   ]
  },
  {
   "cell_type": "code",
   "execution_count": 30,
   "id": "b9dd9c68-167f-4bbd-a56a-084ecb5997e4",
   "metadata": {
    "tags": []
   },
   "outputs": [],
   "source": [
    "# Obtain the location of the bill_length_mm column\n",
    "bill_length_index = penguins.columns.get_loc('bill_length_mm')"
   ]
  },
  {
   "cell_type": "code",
   "execution_count": 31,
   "id": "dbaf2719-8768-4e50-80c7-77586c705bd0",
   "metadata": {
    "tags": []
   },
   "outputs": [
    {
     "data": {
      "text/plain": [
       "species                 Adelie\n",
       "island               Torgersen\n",
       "bill_length_mm             NaN\n",
       "bill_depth_mm             18.0\n",
       "flipper_length_mm        195.0\n",
       "body_mass_g             3250.0\n",
       "sex                     female\n",
       "year                      2007\n",
       "body_mass_kg              3.25\n",
       "2                          NaN\n",
       "bill_length                NaN\n",
       "Name: 125, dtype: object"
      ]
     },
     "execution_count": 31,
     "metadata": {},
     "output_type": "execute_result"
    }
   ],
   "source": [
    "# Ues `iat[]` to rename bill_length_mm for penguin with ID 214\n",
    "penguins.iat[2, bill_length_index] = np.nan\n",
    "penguins.iloc[2]"
   ]
  },
  {
   "cell_type": "code",
   "execution_count": 22,
   "id": "dc83dce8-062d-41fd-a551-e06e2dc72bbb",
   "metadata": {
    "tags": []
   },
   "outputs": [
    {
     "data": {
      "text/plain": [
       "\u001b[0;31mType:\u001b[0m        property\n",
       "\u001b[0;31mString form:\u001b[0m <property object at 0x7f01bd06ede0>\n",
       "\u001b[0;31mDocstring:\u001b[0m  \n",
       "Access a single value for a row/column pair by integer position.\n",
       "\n",
       "Similar to ``iloc``, in that both provide integer-based lookups. Use\n",
       "``iat`` if you only need to get or set a single value in a DataFrame\n",
       "or Series.\n",
       "\n",
       "Raises\n",
       "------\n",
       "IndexError\n",
       "    When integer position is out of bounds.\n",
       "\n",
       "See Also\n",
       "--------\n",
       "DataFrame.at : Access a single value for a row/column label pair.\n",
       "DataFrame.loc : Access a group of rows and columns by label(s).\n",
       "DataFrame.iloc : Access a group of rows and columns by integer position(s).\n",
       "\n",
       "Examples\n",
       "--------\n",
       ">>> df = pd.DataFrame([[0, 2, 3], [0, 4, 1], [10, 20, 30]],\n",
       "...                   columns=['A', 'B', 'C'])\n",
       ">>> df\n",
       "    A   B   C\n",
       "0   0   2   3\n",
       "1   0   4   1\n",
       "2  10  20  30\n",
       "\n",
       "Get value at specified row/column pair\n",
       "\n",
       ">>> df.iat[1, 2]\n",
       "1\n",
       "\n",
       "Set value at specified row/column pair\n",
       "\n",
       ">>> df.iat[1, 2] = 10\n",
       ">>> df.iat[1, 2]\n",
       "10\n",
       "\n",
       "Get value within a series\n",
       "\n",
       ">>> df.loc[0].iat[1]\n",
       "2"
      ]
     },
     "metadata": {},
     "output_type": "display_data"
    }
   ],
   "source": [
    "?penguins.iat"
   ]
  },
  {
   "cell_type": "code",
   "execution_count": null,
   "id": "ac1d810e-99b7-42c2-adb2-50d53228076b",
   "metadata": {},
   "outputs": [],
   "source": []
  }
 ],
 "metadata": {
  "kernelspec": {
   "display_name": "EDS220",
   "language": "python",
   "name": "eds220-env"
  },
  "language_info": {
   "codemirror_mode": {
    "name": "ipython",
    "version": 3
   },
   "file_extension": ".py",
   "mimetype": "text/x-python",
   "name": "python",
   "nbconvert_exporter": "python",
   "pygments_lexer": "ipython3",
   "version": "3.11.4"
  }
 },
 "nbformat": 4,
 "nbformat_minor": 5
}
