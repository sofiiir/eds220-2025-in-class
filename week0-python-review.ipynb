{
 "cells": [
  {
   "cell_type": "markdown",
   "id": "ce5fdc2c-af6e-4691-b8fc-e9c38d88bacc",
   "metadata": {},
   "source": [
    "# Python review\n",
    "\n",
    "Goals: \n",
    "- recall basic Python vocabulary\n",
    "- practice markdown\n",
    "\n",
    "## Libraries and packages\n",
    "\n",
    "**library**: a collection of code that we can use to perform specific tasks in our programs. \n",
    "\n",
    "**NumPy**:\n",
    "- core library for numerical computing in Python\n",
    "- many other libraries use NumPy arrrays as building blocks\n",
    "- computations on NumPy are optomized for speed and memory usage\n",
    "\n",
    "Let's import NumPy with **standard abbreviation**"
   ]
  },
  {
   "cell_type": "code",
   "execution_count": 1,
   "id": "dc2961a1-e3ad-4bfb-b904-6f51b53e9709",
   "metadata": {
    "tags": []
   },
   "outputs": [],
   "source": [
    "import numpy as np"
   ]
  },
  {
   "cell_type": "markdown",
   "id": "7f7f9923-685e-4063-84e7-6629dc373d48",
   "metadata": {},
   "source": [
    "## Variables \n",
    "\n",
    "**variable**: a name we assign to a particular object in Python\n",
    "\n",
    "Example:"
   ]
  },
  {
   "cell_type": "code",
   "execution_count": 2,
   "id": "78f4a693-c4a6-49d1-a75e-cccf1ffdcdfd",
   "metadata": {
    "tags": []
   },
   "outputs": [],
   "source": [
    "# Assign to small array to a variable a \n",
    "a = np.array([[1,1,2],[3,5,8]])"
   ]
  },
  {
   "cell_type": "code",
   "execution_count": 3,
   "id": "d5529964-cd12-482d-95cb-1c240415af6e",
   "metadata": {
    "tags": []
   },
   "outputs": [
    {
     "data": {
      "text/plain": [
       "array([[1, 1, 2],\n",
       "       [3, 5, 8]])"
      ]
     },
     "execution_count": 3,
     "metadata": {},
     "output_type": "execute_result"
    }
   ],
   "source": [
    "# Run cell with the variable name to show the value\n",
    "a"
   ]
  },
  {
   "cell_type": "code",
   "execution_count": 4,
   "id": "2dbb0394-0dbe-4acb-a174-74c31bca6dbd",
   "metadata": {
    "tags": []
   },
   "outputs": [
    {
     "name": "stdout",
     "output_type": "stream",
     "text": [
      "[[1 1 2]\n",
      " [3 5 8]]\n"
     ]
    }
   ],
   "source": [
    "# Use 'print' function to print the value\n",
    "print(a)"
   ]
  },
  {
   "cell_type": "markdown",
   "id": "4e375c10-53d9-4465-ba22-fe114383b0d5",
   "metadata": {},
   "source": [
    "## Objects\n",
    "**object** (informally speaking) is a bundle of *properties* and *actions* about something specific.\n",
    "\n",
    "Example: \n",
    "\n",
    "Object: data frame\n",
    "\n",
    "Poperties: number rows, names of the columns, date created\n",
    "\n",
    "Actions: selecting a specific row, adding a new column\n",
    "\n",
    "A varialbe is the name we give a specific object, and the same object can be referenced by different variables. \n",
    "\n",
    "In practice, we can often use variable and object interchangeably.\n",
    "\n",
    "## Types \n",
    "\n",
    "Every object in Python has a **type**. The type tells us what kind of object it is.\n",
    "\n",
    "We can also call the type of an object, the **class** of an object and they both mean what kind of object we have. "
   ]
  },
  {
   "cell_type": "code",
   "execution_count": 6,
   "id": "3d7132d1-d432-4815-b67e-7addc032ac26",
   "metadata": {},
   "outputs": [
    {
     "name": "stdout",
     "output_type": "stream",
     "text": [
      "[[1 1 2]\n",
      " [3 5 8]]\n"
     ]
    },
    {
     "data": {
      "text/plain": [
       "numpy.ndarray"
      ]
     },
     "execution_count": 6,
     "metadata": {},
     "output_type": "execute_result"
    }
   ],
   "source": [
    "print(a)\n",
    "\n",
    "# Check the type/class of a variable/object by using 'type' function\n",
    "type(a)"
   ]
  },
  {
   "cell_type": "code",
   "execution_count": 8,
   "id": "000103e0-eeff-4605-a9ea-dd7286e1b528",
   "metadata": {
    "tags": []
   },
   "outputs": [
    {
     "name": "stdout",
     "output_type": "stream",
     "text": [
      "1\n"
     ]
    },
    {
     "data": {
      "text/plain": [
       "numpy.int64"
      ]
     },
     "execution_count": 8,
     "metadata": {},
     "output_type": "execute_result"
    }
   ],
   "source": [
    "print(a[0,0])\n",
    "\n",
    "# Check the type of an entry on the array by indexing\n",
    "type(a[0,0])"
   ]
  },
  {
   "cell_type": "markdown",
   "id": "01ebb34e-87d9-4de6-bdf4-9d2407242507",
   "metadata": {},
   "source": [
    "Notice that `type(a[0])` is `numpy.int64` and not just the standard Python integer type. This is telling us that 1 is an integer stored as a 64-bit number."
   ]
  },
  {
   "cell_type": "code",
   "execution_count": 10,
   "id": "da75f217-66d8-48be-bd25-9cde819f59fe",
   "metadata": {
    "tags": []
   },
   "outputs": [
    {
     "name": "stdout",
     "output_type": "stream",
     "text": [
      "5\n"
     ]
    }
   ],
   "source": [
    "print(a[1,1])"
   ]
  },
  {
   "cell_type": "markdown",
   "id": "3e473137-d923-42c3-a27b-1ce9fde6e12d",
   "metadata": {},
   "source": [
    "## Functions\n",
    "\n",
    "`print` was our first example of a Python **function**.\n",
    "\n",
    "Functions take in a set of **arguments** and those arguments creat an **output**.\n",
    "\n",
    "argument = parameter.\n",
    "\n",
    "We can ask information about a functions execution `?function`"
   ]
  },
  {
   "cell_type": "code",
   "execution_count": 11,
   "id": "d6c7ada5-5e50-4bdf-9cf7-75449326b06f",
   "metadata": {
    "tags": []
   },
   "outputs": [
    {
     "data": {
      "text/plain": [
       "\u001b[0;31mSignature:\u001b[0m \u001b[0mprint\u001b[0m\u001b[0;34m(\u001b[0m\u001b[0;34m*\u001b[0m\u001b[0margs\u001b[0m\u001b[0;34m,\u001b[0m \u001b[0msep\u001b[0m\u001b[0;34m=\u001b[0m\u001b[0;34m' '\u001b[0m\u001b[0;34m,\u001b[0m \u001b[0mend\u001b[0m\u001b[0;34m=\u001b[0m\u001b[0;34m'\\n'\u001b[0m\u001b[0;34m,\u001b[0m \u001b[0mfile\u001b[0m\u001b[0;34m=\u001b[0m\u001b[0;32mNone\u001b[0m\u001b[0;34m,\u001b[0m \u001b[0mflush\u001b[0m\u001b[0;34m=\u001b[0m\u001b[0;32mFalse\u001b[0m\u001b[0;34m)\u001b[0m\u001b[0;34m\u001b[0m\u001b[0;34m\u001b[0m\u001b[0m\n",
       "\u001b[0;31mDocstring:\u001b[0m\n",
       "Prints the values to a stream, or to sys.stdout by default.\n",
       "\n",
       "sep\n",
       "  string inserted between values, default a space.\n",
       "end\n",
       "  string appended after the last value, default a newline.\n",
       "file\n",
       "  a file-like object (stream); defaults to the current sys.stdout.\n",
       "flush\n",
       "  whether to forcibly flush the stream.\n",
       "\u001b[0;31mType:\u001b[0m      builtin_function_or_method"
      ]
     },
     "metadata": {},
     "output_type": "display_data"
    }
   ],
   "source": [
    "?print"
   ]
  },
  {
   "cell_type": "markdown",
   "id": "637d398a-0766-4cf4-a8a1-ce687983273d",
   "metadata": {},
   "source": [
    "This information is a **docstring**.\n",
    "\n",
    "A function has two types of arguments:\n",
    "\n",
    "- **non-optional argument**: arguments *you* need to specifiy for the function to do something\n",
    "\n",
    "- **optional arguments**: arguments that are pre-filled with a default value by the function. You can override them. Optional arguments appear inside the parenthesis in the form `optional_argument=default_value`"
   ]
  },
  {
   "cell_type": "code",
   "execution_count": 12,
   "id": "fc85bdc1-5e3a-4642-b7ec-b680d7998955",
   "metadata": {
    "tags": []
   },
   "outputs": [
    {
     "name": "stdout",
     "output_type": "stream",
     "text": [
      "changing the default end argument:)"
     ]
    }
   ],
   "source": [
    "print('changing the default end argument', end = ':)')"
   ]
  },
  {
   "cell_type": "markdown",
   "id": "e5dfde67-3416-4212-9142-31fcaa1fc0e7",
   "metadata": {},
   "source": [
    "## Attributes & methods\n",
    "\n",
    "An object in Python has attributes and methods.\n",
    "\n",
    "- **attribute**: a property of the object, some piece of information about it\n",
    "\n",
    "- **method**: a procedure associated with the object, an action where the main ingedient is the object. \n",
    "\n",
    "### Check-in\n",
    "\n",
    "Fish:\n",
    "\n",
    "- length, color, species\n",
    "- die(), bite(), swim()\n",
    "\n",
    "**Example**\n",
    "Attributes for `numpy.arrays`\n",
    "\n",
    "We can access a variables attributes and methods by adding a pertiod `.` at the end of the variable's name. \n",
    "\n",
    "`variable.method()` or `variable.attribute`"
   ]
  },
  {
   "cell_type": "code",
   "execution_count": 13,
   "id": "1d5505d9-d28e-465f-a703-61b88aa52d76",
   "metadata": {
    "tags": []
   },
   "outputs": [
    {
     "data": {
      "text/plain": [
       "(2, 3)"
      ]
     },
     "execution_count": 13,
     "metadata": {},
     "output_type": "execute_result"
    }
   ],
   "source": [
    "a.shape"
   ]
  },
  {
   "cell_type": "code",
   "execution_count": 14,
   "id": "a02b6e42-e002-4387-9bf8-951e109681e4",
   "metadata": {
    "tags": []
   },
   "outputs": [
    {
     "data": {
      "text/plain": [
       "tuple"
      ]
     },
     "execution_count": 14,
     "metadata": {},
     "output_type": "execute_result"
    }
   ],
   "source": [
    "type(a.shape)"
   ]
  },
  {
   "cell_type": "code",
   "execution_count": 16,
   "id": "cd3e6a94-b055-499a-8f3a-4536b4eb16ab",
   "metadata": {
    "tags": []
   },
   "outputs": [
    {
     "data": {
      "text/plain": [
       "array([1, 1, 2])"
      ]
     },
     "execution_count": 16,
     "metadata": {},
     "output_type": "execute_result"
    }
   ],
   "source": [
    "# Methods examples\n",
    "# min() returns the minimum value along the specified axis\n",
    "a.min(axis=0)"
   ]
  },
  {
   "cell_type": "markdown",
   "id": "58a7bf17-a539-4b9e-912f-7203f0b64cfd",
   "metadata": {},
   "source": [
    "## Check-in \n",
    "\n",
    "We can also call the `min` method without any parameters:"
   ]
  },
  {
   "cell_type": "code",
   "execution_count": 17,
   "id": "1045a57d-6bb5-44f9-a9c7-d4d7adbf0009",
   "metadata": {
    "tags": []
   },
   "outputs": [
    {
     "data": {
      "text/plain": [
       "1"
      ]
     },
     "execution_count": 17,
     "metadata": {},
     "output_type": "execute_result"
    }
   ],
   "source": [
    "a.min()"
   ]
  },
  {
   "cell_type": "markdown",
   "id": "4f89a5f3-54f9-402f-ab9a-73a8a0b0d2ad",
   "metadata": {},
   "source": [
    "Remember: methods are functions associated with an object."
   ]
  },
  {
   "cell_type": "code",
   "execution_count": 18,
   "id": "e31e92d6-e5ec-4516-bf5f-a39679c68fb7",
   "metadata": {
    "tags": []
   },
   "outputs": [
    {
     "data": {
      "text/plain": [
       "builtin_function_or_method"
      ]
     },
     "execution_count": 18,
     "metadata": {},
     "output_type": "execute_result"
    }
   ],
   "source": [
    "type(a.min)"
   ]
  },
  {
   "cell_type": "markdown",
   "id": "ddc3db9d-76f8-4cb7-afe5-5bbcf59b20f9",
   "metadata": {},
   "source": [
    " ## Excercise\n",
    " \n",
    " 1. Read the `print` function help. What is the type of argument `sep`? Is this an optional or non-optional argument? why?\n",
    " \n",
    " 2. Creat two new variables, one with the integer value 77 and another one with the string 99.\n",
    " \n",
    " 3.  Use your variables to print `77%99%77` by changing the value of the optional arguments in `print`."
   ]
  },
  {
   "cell_type": "code",
   "execution_count": 20,
   "id": "39ee8058-135f-430d-a12e-a2e88cf68f0d",
   "metadata": {
    "tags": []
   },
   "outputs": [
    {
     "data": {
      "text/plain": [
       "\u001b[0;31mSignature:\u001b[0m \u001b[0mprint\u001b[0m\u001b[0;34m(\u001b[0m\u001b[0;34m*\u001b[0m\u001b[0margs\u001b[0m\u001b[0;34m,\u001b[0m \u001b[0msep\u001b[0m\u001b[0;34m=\u001b[0m\u001b[0;34m' '\u001b[0m\u001b[0;34m,\u001b[0m \u001b[0mend\u001b[0m\u001b[0;34m=\u001b[0m\u001b[0;34m'\\n'\u001b[0m\u001b[0;34m,\u001b[0m \u001b[0mfile\u001b[0m\u001b[0;34m=\u001b[0m\u001b[0;32mNone\u001b[0m\u001b[0;34m,\u001b[0m \u001b[0mflush\u001b[0m\u001b[0;34m=\u001b[0m\u001b[0;32mFalse\u001b[0m\u001b[0;34m)\u001b[0m\u001b[0;34m\u001b[0m\u001b[0;34m\u001b[0m\u001b[0m\n",
       "\u001b[0;31mDocstring:\u001b[0m\n",
       "Prints the values to a stream, or to sys.stdout by default.\n",
       "\n",
       "sep\n",
       "  string inserted between values, default a space.\n",
       "end\n",
       "  string appended after the last value, default a newline.\n",
       "file\n",
       "  a file-like object (stream); defaults to the current sys.stdout.\n",
       "flush\n",
       "  whether to forcibly flush the stream.\n",
       "\u001b[0;31mType:\u001b[0m      builtin_function_or_method"
      ]
     },
     "metadata": {},
     "output_type": "display_data"
    }
   ],
   "source": [
    "?print\n",
    "# `sep` is an optional argument because it defaults to a space if not specified"
   ]
  },
  {
   "cell_type": "code",
   "execution_count": 22,
   "id": "ac3a165b-e633-4180-b89f-367ea4913ede",
   "metadata": {
    "tags": []
   },
   "outputs": [],
   "source": [
    "n1 = 77 \n",
    "n2 = '99'"
   ]
  },
  {
   "cell_type": "code",
   "execution_count": 28,
   "id": "7338ce87-f1b5-419a-9de6-5772ed3418df",
   "metadata": {
    "tags": []
   },
   "outputs": [
    {
     "name": "stdout",
     "output_type": "stream",
     "text": [
      "77%99%77\n"
     ]
    }
   ],
   "source": [
    "print(n1, n2, n1, sep= '%')"
   ]
  },
  {
   "cell_type": "code",
   "execution_count": null,
   "id": "77823bf3-2e79-4329-abea-8c7b4f9cf8bb",
   "metadata": {},
   "outputs": [],
   "source": []
  }
 ],
 "metadata": {
  "kernelspec": {
   "display_name": "EDS220",
   "language": "python",
   "name": "eds220-env"
  },
  "language_info": {
   "codemirror_mode": {
    "name": "ipython",
    "version": 3
   },
   "file_extension": ".py",
   "mimetype": "text/x-python",
   "name": "python",
   "nbconvert_exporter": "python",
   "pygments_lexer": "ipython3",
   "version": "3.11.4"
  }
 },
 "nbformat": 4,
 "nbformat_minor": 5
}
