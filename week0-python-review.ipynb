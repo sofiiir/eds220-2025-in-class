{
 "cells": [
  {
   "cell_type": "markdown",
   "id": "ce5fdc2c-af6e-4691-b8fc-e9c38d88bacc",
   "metadata": {},
   "source": [
    "# Python review\n",
    "\n",
    "Goals: \n",
    "- recall basic Python vocabulary\n",
    "- practice markdown\n",
    "\n",
    "## Libraries and packages\n",
    "\n",
    "**library**: a collection of code that we can use to perform specific tasks in our programs. \n",
    "\n",
    "**NumPy**:\n",
    "- core library for numerical computing in Python\n",
    "- many other libraries use NumPy arrrays as building blocks\n",
    "- computations on NumPy are optomized for speed and memory usage\n",
    "\n",
    "Let's import NumPy with **standard abbreviation**"
   ]
  },
  {
   "cell_type": "code",
   "execution_count": 3,
   "id": "dc2961a1-e3ad-4bfb-b904-6f51b53e9709",
   "metadata": {
    "tags": []
   },
   "outputs": [],
   "source": [
    "import numpy as np"
   ]
  },
  {
   "cell_type": "markdown",
   "id": "7f7f9923-685e-4063-84e7-6629dc373d48",
   "metadata": {},
   "source": [
    "## Variables \n",
    "\n",
    "**variable**: a name we assign to a particular object in Python\n",
    "\n",
    "Example:"
   ]
  },
  {
   "cell_type": "code",
   "execution_count": 5,
   "id": "78f4a693-c4a6-49d1-a75e-cccf1ffdcdfd",
   "metadata": {
    "tags": []
   },
   "outputs": [],
   "source": [
    "# Assign to small array to a variable a \n",
    "a = np.array([[1,1,2],[3,5,8]])"
   ]
  },
  {
   "cell_type": "code",
   "execution_count": 6,
   "id": "d5529964-cd12-482d-95cb-1c240415af6e",
   "metadata": {
    "tags": []
   },
   "outputs": [
    {
     "data": {
      "text/plain": [
       "array([[1, 1, 2],\n",
       "       [3, 5, 8]])"
      ]
     },
     "execution_count": 6,
     "metadata": {},
     "output_type": "execute_result"
    }
   ],
   "source": [
    "# Run cell with the variable name to show the value\n",
    "a"
   ]
  },
  {
   "cell_type": "code",
   "execution_count": 7,
   "id": "2dbb0394-0dbe-4acb-a174-74c31bca6dbd",
   "metadata": {
    "tags": []
   },
   "outputs": [
    {
     "name": "stdout",
     "output_type": "stream",
     "text": [
      "[[1 1 2]\n",
      " [3 5 8]]\n"
     ]
    }
   ],
   "source": [
    "# Use 'print' function to print the value\n",
    "print(a)"
   ]
  },
  {
   "cell_type": "markdown",
   "id": "4e375c10-53d9-4465-ba22-fe114383b0d5",
   "metadata": {},
   "source": [
    "## Objects\n",
    "**object** (informally speaking) is a bundle of *properties* and *actions* about something specific.\n",
    "\n",
    "Example: \n",
    "\n",
    "Object: data frame\n",
    "\n",
    "Poperties: number rows, names of the columns, date created\n",
    "\n",
    "Actions: selecting a specific row, adding a new column\n",
    "\n",
    "A vairalbe is the name we give specific object, and the same object can be referenced by different variables. \n",
    "\n",
    "In practice, we can often use variable and object interchangeably."
   ]
  },
  {
   "cell_type": "code",
   "execution_count": null,
   "id": "3d7132d1-d432-4815-b67e-7addc032ac26",
   "metadata": {},
   "outputs": [],
   "source": []
  }
 ],
 "metadata": {
  "kernelspec": {
   "display_name": "EDS220",
   "language": "python",
   "name": "eds220-env"
  },
  "language_info": {
   "codemirror_mode": {
    "name": "ipython",
    "version": 3
   },
   "file_extension": ".py",
   "mimetype": "text/x-python",
   "name": "python",
   "nbconvert_exporter": "python",
   "pygments_lexer": "ipython3",
   "version": "3.11.4"
  }
 },
 "nbformat": 4,
 "nbformat_minor": 5
}
